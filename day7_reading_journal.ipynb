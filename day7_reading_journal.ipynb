{
 "cells": [
  {
   "cell_type": "markdown",
   "metadata": {},
   "source": [
    "# Day 7 Reading Journal\n",
    "\n",
    "This journal includes several required exercises, but it is meant to encourage active reading more generally.  You should use the journal to take detailed notes, catalog questions, and explore the content from Think Python deeply.\n",
    "\n",
    "Reading: Think Python Chapter 11, 12\n",
    "\n",
    "**Due: Thursday, February 18 at 12 noon**\n",
    "\n"
   ]
  },
  {
   "cell_type": "markdown",
   "metadata": {},
   "source": [
    "## [Chapter 11](http://www.greenteapress.com/thinkpython/html/thinkpython012.html)\n"
   ]
  },
  {
   "cell_type": "markdown",
   "metadata": {},
   "source": [
    "**Quick check:** In about one sentence using your own words, what is a dictionary?\n",
    "- Dictionary is a list-like thing but instead of integer indices, indicies can be almost any type."
   ]
  },
  {
   "cell_type": "markdown",
   "metadata": {},
   "source": [
    "Notes\n",
    "=====\n",
    "- dict() function creates an empty dictionary\n",
    "- You can also use {} and key-value separated by commas to make new dictionary. For example, you can do something like {'fruit':'tomato','vegetable':'daniel','chips':'salsa'}\n",
    "- The in operator can be used to look up whether specific key (not value) exists in a dictionary\n",
    "- You can use values method to get all the values in a dictionary as a list.\n",
    "- A singleton is a list that contains a single element\n",
    "- A hash is a function that takes a value and returns an integer\n",
    "- A previously computed value that is stored for later use is called a memo\n",
    "- You can modify mutable global variables without declaring it inside a function but to chage the value of global variable, you have to use the keyword 'global' to tell your fuction not to create a local variable of same name."
   ]
  },
  {
   "cell_type": "markdown",
   "metadata": {
    "is_question": true,
    "problem": "Exercise 11.2"
   },
   "source": [
    "### Exercise 2  \n",
    "\n",
    "Dictionaries have a [method called `get`](https://docs.python.org/2/library/stdtypes.html#mapping-types-dict) that takes a key and a default value. If the key appears in the dictionary, `get` returns the corresponding value; otherwise it returns the default value. For example:\n",
    "\n",
    "```\n",
    ">>> h = histogram('a')\n",
    ">>> print h\n",
    "{'a': 1}\n",
    ">>> h.get('a', 0)\n",
    "1\n",
    ">>> h.get('b', 0)\n",
    "0\n",
    "```\n",
    "\n",
    "Use `get` to write `histogram` more concisely. You should be able to eliminate the `if` statement. Add unit tests for your histogram implementation."
   ]
  },
  {
   "cell_type": "code",
   "execution_count": null,
   "metadata": {
    "collapsed": false,
    "solution": "Exercise 11.2"
   },
   "outputs": [],
   "source": [
    "def histogram(s):\n",
    "    d = dict()\n",
    "    for c in s:\n",
    "        d[c] = d.get(c,0) + 1\n",
    "    return d\n",
    "\n",
    "print histogram('elephants')"
   ]
  },
  {
   "cell_type": "markdown",
   "metadata": {
    "is_question": true,
    "problem": "Exercise 11.4"
   },
   "source": [
    "### Exercise 4  \n",
    "\n",
    "Modify `reverse_lookup` so that it builds and returns a list of all keys that map to `v`, or an empty list if there are none. Add unit tests for your implementation."
   ]
  },
  {
   "cell_type": "code",
   "execution_count": null,
   "metadata": {
    "collapsed": false,
    "solution": "Exercise 11.4"
   },
   "outputs": [],
   "source": [
    "def reverse_lookup(d, v):\n",
    "    t = []\n",
    "    for k in d:\n",
    "        if d[k] == v:\n",
    "            t.append(k)\n",
    "    return t\n",
    "\n",
    "h = histogram('elephants')\n",
    "print reverse_lookup(h,2)\n",
    "print reverse_lookup(h,3)\n",
    "print reverse_lookup(h,1)"
   ]
  },
  {
   "cell_type": "markdown",
   "metadata": {},
   "source": [
    "If you'd like to learn more about errors and exceptions, you can check out the [Python tutorial](https://docs.python.org/2/tutorial/errors.html) or read ahead to [Appendix A](http://www.greenteapress.com/thinkpython/html/thinkpython021.html) of Think Python. If you choose to use doctest for your unit testing, it can also [deal with exceptions](https://docs.python.org/2/library/doctest.html#what-about-exceptions)."
   ]
  },
  {
   "cell_type": "markdown",
   "metadata": {},
   "source": [
    "**Quick check** What type of objects can be used as keys to a dictionary, i.e. what property must they have?"
   ]
  },
  {
   "cell_type": "markdown",
   "metadata": {},
   "source": [
    "Objects that are immutable (i.e, string, integers) can be ussed as keys to a dictionary."
   ]
  },
  {
   "cell_type": "markdown",
   "metadata": {
    "is_question": true,
    "problem": "Exercise 11.6"
   },
   "source": [
    "### Exercise 6 (modified)\n",
    "\n",
    "Create a memoized version of your Levenshtein distance function from Day 7. What kind of performance change do you see?\n",
    "\n",
    "Optional: If you'd like to get some quantitative results, you could check out the [timeit](https://docs.python.org/2/library/timeit.html) module\n",
    "\n",
    "Note: You can also study Fibonacci here if you prefer."
   ]
  },
  {
   "cell_type": "code",
   "execution_count": null,
   "metadata": {
    "collapsed": false,
    "solution": "Exercise 11.6"
   },
   "outputs": [],
   "source": [
    "def levenshtein(s,len_s,t,len_t):\n",
    "    #store key as string of 2 ints - (len_s)(len_t) - i.e. 23 len_s = 2 len_t = 3\n",
    "    known = dict()\n",
    "    key = str(len_s) + str(len_t)\n",
    "    if key in known:\n",
    "        return known[key]\n",
    "    \n",
    "    if len_s == 0:\n",
    "        known[key] = len_t\n",
    "        return len_t\n",
    "    if len_t == 0:\n",
    "        known[key] = len_s\n",
    "        return len_s\n",
    "    if s[len_s-1] == t[len_t-1]:\n",
    "        cost = 0\n",
    "    else:\n",
    "        cost = 1\n",
    "    \n",
    "    res = min(levenshtein(s,len_s-1,t,len_t)+1,levenshtein(s,len_s,t,len_t-1)+1,levenshtein(s,len_s-1,t,len_t-1)+cost)\n",
    "    known[key] = res\n",
    "    return res\n",
    "    \n",
    "word1 = 'kitten'\n",
    "word2 = 'sitting'\n",
    "print levenshtein(word1,len(word1),word2,len(word2))"
   ]
  },
  {
   "cell_type": "markdown",
   "metadata": {},
   "source": [
    "## [Chapter 12](http://www.greenteapress.com/thinkpython/html/thinkpython013.html)\n",
    "\n",
    "**Quick check:** In about one sentence using your own words, what is a tuple?"
   ]
  },
  {
   "cell_type": "markdown",
   "metadata": {},
   "source": [
    "- A tuple is a sequence of values that is immutable"
   ]
  },
  {
   "cell_type": "markdown",
   "metadata": {},
   "source": [
    "Notes\n",
    "=====\n",
    "- Syntatically, a tuple is a comma separated list of values. (Ex. t = 'a','b','c')\n",
    "- It is common to enclose tuples within parenthesis\n",
    "- To create a tuple with single element, you have to include a comma at the end. (ex. t1 = 'a',)\n",
    "- You can also create a tuple with in-build function tuple()\n",
    "- You can't modify an element in a tuple but you can replace one element with another.\n",
    "- Tuple assignment can be used to assign values to multiple variables at the same time\n",
    "- \\* gathers argument for a function\n",
    "- zip is a built-in function that takes two or more sequences and zipz into a list of tuples.\n",
    "- You can't use mmethods like sort or reverse on tuples which are immutable but you can use built-in functions sorted() or reversed() because they return a new list in sorted or reversed order."
   ]
  },
  {
   "cell_type": "markdown",
   "metadata": {
    "is_question": true,
    "problem": "Exercise 12.1"
   },
   "source": [
    "### Exercise 1  \n",
    "\n",
    "Many of the built-in functions use variable-length argument tuples. For example, `max` and `min` can take any number of arguments:\n",
    "\n",
    "```\n",
    ">>> max(1,2,3)\n",
    "3\n",
    "```\n",
    "\n",
    "But `sum` does not.\n",
    "\n",
    "```\n",
    ">>> sum(1,2,3)\n",
    "TypeError: sum expected at most 2 arguments, got 3\n",
    "```\n",
    "\n",
    "Write a function called ```sumall``` that takes any number of arguments and returns their sum. \n",
    "\n",
    "Write unit tests for your function. Do I actually need to keep saying this? Let's assume it's always a good idea :)"
   ]
  },
  {
   "cell_type": "code",
   "execution_count": null,
   "metadata": {
    "collapsed": false,
    "solution": "Exercise 12.1"
   },
   "outputs": [],
   "source": [
    "def sumall(*args):\n",
    "    my_sum = 0\n",
    "    for arg in args:\n",
    "        my_sum += arg\n",
    "    return my_sum\n",
    "\n",
    "sumall(2,3,4,5)"
   ]
  },
  {
   "cell_type": "markdown",
   "metadata": {},
   "source": [
    "If you're interested in more flexible ways to pass arguments to functions, check out the [Python tutorial](https://docs.python.org/2/tutorial/controlflow.html#more-on-defining-functions). For instance, you can also use keyword arguments, which are collected into a dictionary just like `*` gathers variable numbers of positional arguments into a tuple.\n",
    "\n",
    "This pattern is very common for defining functions with complex optional behaviors in Python, and you will often see definitions like:\n",
    "\n",
    "```\n",
    "def my_func(required_argument1, *arguments, **keywords):\n",
    "    ...\n",
    "```"
   ]
  },
  {
   "cell_type": "markdown",
   "metadata": {
    "is_question": true,
    "problem": "Exercise 12 sort"
   },
   "source": [
    "### Exercise\n",
    "\n",
    "Write a function `sort_by_last_letter` that takes a list of words and returns a new list with the words sorted alphabetically by the _last letter_ in the word. Hint: use the **Decorate, Sort, Undecorate** pattern. Write unit tests for your function."
   ]
  },
  {
   "cell_type": "code",
   "execution_count": null,
   "metadata": {
    "collapsed": false,
    "solution": "Exercise 12 sort"
   },
   "outputs": [],
   "source": [
    "def sort_by_last_letter(words):\n",
    "    t = []\n",
    "    for word in words:\n",
    "        t.append((word[-1],word))\n",
    "    \n",
    "    t.sort()\n",
    "    \n",
    "    res = []\n",
    "    for last_letter, word in t:\n",
    "        res.append(word)\n",
    "    return res\n",
    "\n",
    "print sort_by_last_letter(['hello','world','hi','software','design'])"
   ]
  },
  {
   "cell_type": "markdown",
   "metadata": {},
   "source": [
    "**Quick check** Give an example of when you might use each sequence type:\n",
    "\n",
    "- tuple\n",
    "\n",
    "- list\n",
    "\n",
    "- string"
   ]
  },
  {
   "cell_type": "markdown",
   "metadata": {},
   "source": [
    "- You use tuples when you want a sequence that are immutable. Ex. a sequence to be used as a key for a dictionary\n",
    "- When you have to modify an element in a list, you use a list\n",
    "- When you have a sequence of character that you don't want to modify, you use a string"
   ]
  },
  {
   "cell_type": "markdown",
   "metadata": {
    "is_question": true,
    "problem": "Exercise 12.3"
   },
   "source": [
    "### Exercise 3  \n",
    "\n",
    "Write a function called `most_frequent` that takes a string and prints the letters in decreasing order of frequency. Find text samples from several different languages and see how letter frequency varies between languages. Compare your results with the tables at http://en.wikipedia.org/wiki/Letter_frequencies. \n",
    "\n",
    "Allen's solution (try it on your own first): http://thinkpython.com/code/most_frequent.py. "
   ]
  },
  {
   "cell_type": "code",
   "execution_count": null,
   "metadata": {
    "collapsed": false,
    "solution": "Exercise 12.3"
   },
   "outputs": [],
   "source": [
    "def most_frequent(text):\n",
    "    d = dict()\n",
    "    for letter in text:\n",
    "        if letter not in d:\n",
    "            d[letter] = 1\n",
    "        else:\n",
    "            d[letter] += 1\n",
    "    \n",
    "    t = []\n",
    "    for key in d:\n",
    "        t.append((d[key],key))\n",
    "    \n",
    "    t.sort(reverse=True)\n",
    "    \n",
    "    for freq, letter in t:\n",
    "        print letter,\n",
    "        \n",
    "text = \"\"\n",
    "fin = open('pride_and_prejudice.txt') #Pride and Prejudice from Project Gutenberg\n",
    "for line in fin:\n",
    "    text += line.strip().lower()\n",
    "\n",
    "most_frequent(text)\n",
    "print\n",
    "\n",
    "french_text = \"\"\n",
    "fin = open('french_text.txt')\n",
    "for line in fin:\n",
    "    french_text += line.strip().lower()\n",
    "most_frequent(french_text)"
   ]
  },
  {
   "cell_type": "markdown",
   "metadata": {
    "is_question": true,
    "problem": "Exercise 12.6"
   },
   "source": [
    "### Challenge: Exercise 6   (optional)\n",
    "\n",
    "From a [Car Talk Puzzler](http://www.cartalk.com/content/puzzlers):\n",
    "\n",
    "What is the longest English word, that remains a valid English word, as you remove its letters one at a time?\n",
    "\n",
    "Now, letters can be removed from either end, or the middle, but you can’t rearrange any of the letters. Every time you drop a letter, you wind up with another English word. If you do that, you’re eventually going to wind up with one letter and that too is going to be an English word—one that’s found in the dictionary. I want to know what’s the longest word and how many letters does it have?\n",
    "\n",
    "I’m going to give you a little modest example: Sprite. Ok? You start off with sprite, you take a letter off, one from the interior of the word, take the r away, and we’re left with the word spite, then we take the e off the end, we’re left with spit, we take the s off, we’re left with pit, it, and I. \n",
    "\n",
    "Write a program to find all words that can be reduced in this way, and then find the longest one.\n",
    "\n",
    "This exercise is a little more challenging than most, so here are some suggestions:\n",
    "\n",
    "- You might want to write a function that takes a word and computes a list of all the words that can be formed by removing one letter. These are the “children” of the word.\n",
    "- Recursively, a word is reducible if any of its children are reducible. As a base case, you can consider the empty string reducible.\n",
    "- The word list from [Chapter 9.1](http://www.greenteapress.com/thinkpython/html/thinkpython010.html) Exercise 1 doesn’t contain single letter words. So you might want to add “I”, “a”, and the empty string.\n",
    "- To improve the performance of your program, you might want to memoize the words that are known to be reducible.\n",
    "\n",
    "Allen's solution: http://thinkpython.com/code/reducible.py."
   ]
  },
  {
   "cell_type": "code",
   "execution_count": 3,
   "metadata": {
    "collapsed": false,
    "scrolled": true,
    "solution": "Exercise 12.6"
   },
   "outputs": [
    {
     "name": "stdout",
     "output_type": "stream",
     "text": [
      "['site', 'spite', 'sprite']\n"
     ]
    }
   ],
   "source": [
    "fin = open('words.txt')\n",
    "words = ['i','a']\n",
    "for line in fin:\n",
    "    words.append(line.strip())\n",
    "\n",
    "known = dict() #contains a word as a key and a list of all its children word as a value\n",
    "def compute_children(word): #Returns a list of all children word\n",
    "    if len(word) == 0:\n",
    "        return []\n",
    "    if word in known:\n",
    "        return known[word]\n",
    "    if word in words:\n",
    "        res = []\n",
    "        for i in range(len(word)-1):\n",
    "            res += compute_children(word[:i]+word[i+1:])\n",
    "        res.append(word)\n",
    "        known[word] = res\n",
    "        return res\n",
    "    else:\n",
    "        return []\n",
    "    \n",
    "print compute_children('sprite')"
   ]
  },
  {
   "cell_type": "markdown",
   "metadata": {
    "is_question": true,
    "problem": "Feedback"
   },
   "source": [
    "## Reading Journal feedback\n",
    "\n",
    "Have any comments on this Reading Journal? Feel free to leave them below and we'll read them when you submit your journal entry. This could include suggestions to improve the exercises, topics you'd like to see covered in class next time, or other feedback.\n",
    "\n",
    "If you have Python questions or run into problems while completing the reading, you should post them to Piazza instead so you can get a quick response before your journal is submitted."
   ]
  },
  {
   "cell_type": "markdown",
   "metadata": {
    "feedback_response": true,
    "solution": "Feedback"
   },
   "source": [
    " "
   ]
  }
 ],
 "metadata": {
  "celltoolbar": "Edit Metadata",
  "kernelspec": {
   "display_name": "Python 2",
   "language": "python",
   "name": "python2"
  },
  "language_info": {
   "codemirror_mode": {
    "name": "ipython",
    "version": 2
   },
   "file_extension": ".py",
   "mimetype": "text/x-python",
   "name": "python",
   "nbconvert_exporter": "python",
   "pygments_lexer": "ipython2",
   "version": "2.7.6"
  }
 },
 "nbformat": 4,
 "nbformat_minor": 0
}
