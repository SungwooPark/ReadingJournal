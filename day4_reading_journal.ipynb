{
 "cells": [
  {
   "cell_type": "markdown",
   "metadata": {},
   "source": [
    "# Day 4 Reading Journal\n",
    "\n",
    "This journal includes several required exercises, but it is meant to encourage active reading more generally.  You should use the journal to take detailed notes, catalog questions, and explore the content from Think Python deeply.\n",
    "\n",
    "Reading: Think Python Chapter 10\n",
    "\n",
    "**Due: Thursday, February 4 at 12 noon**\n",
    "\n"
   ]
  },
  {
   "cell_type": "markdown",
   "metadata": {},
   "source": [
    "## [Chapter 10](http://www.greenteapress.com/thinkpython/html/thinkpython011.html)\n",
    "\n",
    "You may want to review [state diagrams in Chapter 2](http://www.greenteapress.com/thinkpython/html/thinkpython003.html#toc13). [Python Tutor](http://pythontutor.com/) is also helpful for visualizing the state of your program.\n",
    "\n"
   ]
  },
  {
   "cell_type": "markdown",
   "metadata": {},
   "source": [
    "Notes\n",
    "=====\n",
    "\n",
    "- Operations that combine a sequence of elements are sometimes called reduce.\n",
    "- An operation that \"maps\" a function into each element is called a map.\n",
    "- An operation that filters elements is called a filter\n",
    "- You can use pop method to take out an element at known index. If an index is not provided, it removes the last index.\n",
    "- You can use remove method to delete an element if you know the value (not the index).\n",
    "- You can use del to delete multiple elements\n",
    "- Use *list* to convert a string into a list of characters\n",
    "- Use *split* method to divide a sentence into words\n",
    "- Use *is* to check whether to items refer to the same object\n",
    "- Objects might be equivalent but not identical\n",
    "- A change from one alias affects others.\n",
    "- Append modifies a list while *+* mmakes a new list\n",
    "- It is important to remember that most string methods return a new string while list methods modify an original list."
   ]
  },
  {
   "cell_type": "markdown",
   "metadata": {},
   "source": [
    "### Exercise 4  \n",
    "Write a function called `middle` that takes a list and returns a new list that contains all but the first and last elements. So `middle([1,2,3,4])` should return `[2,3]`."
   ]
  },
  {
   "cell_type": "code",
   "execution_count": 2,
   "metadata": {
    "collapsed": false
   },
   "outputs": [
    {
     "name": "stdout",
     "output_type": "stream",
     "text": [
      "[2, 3]\n",
      "['hello', 5]\n"
     ]
    }
   ],
   "source": [
    "def middle(L):\n",
    "    res = list(L)\n",
    "    res.pop(0)\n",
    "    res.pop(-1)\n",
    "    return res\n",
    "\n",
    "print middle([1,2,3,4])\n",
    "print middle([2,\"hello\",5,'Hi'])"
   ]
  },
  {
   "cell_type": "markdown",
   "metadata": {},
   "source": [
    "### Exercise 5  \n",
    "Write a function called `chop` that takes a list, modifies it by removing the first and last elements, and returns `None`.\n",
    "\n",
    "What is the difference between `middle` and `chop`? Sketch out the program state or take a look at each in Python Tutor."
   ]
  },
  {
   "cell_type": "code",
   "execution_count": 7,
   "metadata": {
    "collapsed": false
   },
   "outputs": [
    {
     "name": "stdout",
     "output_type": "stream",
     "text": [
      "[2, 3]\n"
     ]
    }
   ],
   "source": [
    "def chop(L):\n",
    "    L.pop(0)\n",
    "    L.pop(-1)\n",
    "    return None\n",
    "\n",
    "my_list = [1,2,3,4]\n",
    "chop(my_list)\n",
    "print my_list\n",
    "\n",
    "#Difference between middle and chop:\n",
    "#Middle does not modify the original list because it makes a new list\n",
    "#Chop directly modies the original list by removing its first and last element"
   ]
  },
  {
   "cell_type": "markdown",
   "metadata": {},
   "source": [
    "### Exercise 7  \n",
    "Two words are anagrams if you can rearrange the letters from one to spell the other. Write a function called `is_anagram` that takes two strings and returns `True` if they are anagrams."
   ]
  },
  {
   "cell_type": "code",
   "execution_count": 13,
   "metadata": {
    "collapsed": false
   },
   "outputs": [
    {
     "name": "stdout",
     "output_type": "stream",
     "text": [
      "True\n",
      "False\n",
      "False\n"
     ]
    }
   ],
   "source": [
    "def is_anagram(word1,word2):\n",
    "    letters = list(word1)\n",
    "    anagram = True\n",
    "    for letter in word2:\n",
    "        if letter not in letters:\n",
    "            return False\n",
    "        else:\n",
    "            letters.remove(letter)\n",
    "    if len(letters) != 0:\n",
    "        return False\n",
    "    return anagram\n",
    "\n",
    "print is_anagram('racecar','carrace')\n",
    "print is_anagram('asdasdasfasd','qowpiead')\n",
    "print is_anagram('aple','apple')"
   ]
  },
  {
   "cell_type": "markdown",
   "metadata": {},
   "source": [
    "### Exercise 8  \n",
    "The (so-called) Birthday Paradox:\n",
    "1. Write a function called `has_duplicates` that takes a list and returns `True` if there is any element that appears more than once. It should not modify the original list.\n",
    "2. If there are 23 students in your class, what are the chances that two of you have the same birthday? You can estimate this probability by generating random samples of 23 birthdays and checking for matches. Hint: you can generate random birthdays with the randint function in the [random module](https://docs.python.org/2/library/random.html).\n",
    "\n",
    "You can read about this problem at http://en.wikipedia.org/wiki/Birthday_paradox, and you can download Allen's solution from http://thinkpython.com/code/birthday.py."
   ]
  },
  {
   "cell_type": "code",
   "execution_count": 35,
   "metadata": {
    "collapsed": false
   },
   "outputs": [
    {
     "name": "stdout",
     "output_type": "stream",
     "text": [
      "54\n"
     ]
    }
   ],
   "source": [
    "import random\n",
    "\n",
    "def has_duplicates(t):\n",
    "    element_tracker = []\n",
    "    for item in t:\n",
    "        if item in element_tracker:\n",
    "            return True\n",
    "        element_tracker.append(item)\n",
    "    return False\n",
    "\n",
    "i = 0\n",
    "j = 0\n",
    "birthdays = []\n",
    "duplicates = []\n",
    "\n",
    "while i < 100:\n",
    "    while j < 23:\n",
    "        birthdays.append(random.randint(0,365)) #birthday represented as one of 365 days\n",
    "        j += 1\n",
    "    \n",
    "    duplicates.append(has_duplicates(birthdays))\n",
    "    birthdays = []\n",
    "    i += 1\n",
    "    j = 0\n",
    "\n",
    "print duplicates.count(True) #Should be ~50"
   ]
  },
  {
   "cell_type": "markdown",
   "metadata": {},
   "source": [
    "### Challenge: Exercise 11 (optional)\n",
    "\n",
    "You should read [Chapter 9.1](http://www.greenteapress.com/thinkpython/html/thinkpython010.html) and do Exercise 1 first.\n",
    "\n",
    "To check whether a word is in the word list, you could use the `in` operator, but it would be relatively slow because it searches through the words in order (try it).\n",
    "\n",
    "Because the words are in alphabetical order, we can speed things up with a bisection search (also known as binary search), which is similar to what you do when you look a word up in the dictionary. You start in the middle and check to see whether the word you are looking for comes before the word in the middle of the list. If so, then you search the first half of the list the same way. Otherwise you search the second half.\n",
    "\n",
    "Either way, you cut the remaining search space in half. If the word list has 113,809 words, it will take about 17 steps to find the word or conclude that it’s not there.\n",
    "\n",
    "Write a function called `bisect` that takes a sorted list and a target value and returns the index of the value in the list, if it’s there, or `None` if it’s not.\n",
    "\n",
    "Or you could read the documentation of the `bisect` module and use that! Solution: http://thinkpython.com/code/inlist.py."
   ]
  },
  {
   "cell_type": "code",
   "execution_count": 61,
   "metadata": {
    "collapsed": false
   },
   "outputs": [
    {
     "name": "stdout",
     "output_type": "stream",
     "text": [
      "4\n",
      "2\n"
     ]
    }
   ],
   "source": [
    "def bisect(t, target_value):\n",
    "    low = 0\n",
    "    high = len(t)\n",
    "    while low < high:\n",
    "        mid = (low+high) // 2\n",
    "        if t[mid] == target_value:\n",
    "            return mid\n",
    "        elif target_value < t[mid]:\n",
    "            high = mid\n",
    "        else: #target_value > t[mid]\n",
    "            low = mid + 1\n",
    "    return mid\n",
    "\n",
    "print bisect([0,1,2,3,4,5],4)\n",
    "print bisect([2,5,7,19,25,26],7)"
   ]
  },
  {
   "cell_type": "markdown",
   "metadata": {},
   "source": [
    "## Reading Journal feedback\n",
    "\n",
    "Have any comments on this Reading Journal? Feel free to leave them below and we'll read them when you submit your journal entry. This could include suggestions to improve the exercises, topics you'd like to see covered in class next time, or other feedback.\n",
    "\n",
    "If you have Python questions or run into problems while completing the reading, you should post them to Piazza instead so you can get a quick response before your journal is submitted."
   ]
  },
  {
   "cell_type": "markdown",
   "metadata": {},
   "source": [
    " "
   ]
  },
  {
   "cell_type": "code",
   "execution_count": null,
   "metadata": {
    "collapsed": true
   },
   "outputs": [],
   "source": []
  }
 ],
 "metadata": {
  "kernelspec": {
   "display_name": "Python 2",
   "language": "python",
   "name": "python2"
  },
  "language_info": {
   "codemirror_mode": {
    "name": "ipython",
    "version": 2
   },
   "file_extension": ".py",
   "mimetype": "text/x-python",
   "name": "python",
   "nbconvert_exporter": "python",
   "pygments_lexer": "ipython2",
   "version": "2.7.6"
  }
 },
 "nbformat": 4,
 "nbformat_minor": 0
}
