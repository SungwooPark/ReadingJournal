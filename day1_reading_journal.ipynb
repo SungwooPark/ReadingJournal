{
 "cells": [
  {
   "cell_type": "markdown",
   "metadata": {},
   "source": [
    "# Day 1 Reading Journal\n",
    "\n",
    "Hi everyone.  These are the exercises for the first set of readings from ThinkPython.  While this journal consists of several required exercises, it is meant to encourage active reading more generally.  You should use this journal to take detailed notes, catalog questions, and explore the content from ThinkPython deeply.\n",
    "\n",
    "For more information on using the Jupyter notebook, check out the documentation [here](http://nbviewer.jupyter.org/github/jupyter/notebook/blob/master/docs/source/examples/Notebook/Examples%20and%20Tutorials%20Index.ipynb).  Additionally, in order to write text in this document, you will be making use of markdown cells. A handy cheatsheet for markdown is available [here](https://github.com/adam-p/markdown-here/wiki/Markdown-Cheatsheet)."
   ]
  },
  {
   "cell_type": "markdown",
   "metadata": {},
   "source": [
    "## Chapter 1\n",
    "\n",
    "Note: the exercise numbers below match up with the reading for ease of cross referencing."
   ]
  },
  {
   "cell_type": "markdown",
   "metadata": {},
   "source": [
    "There are three types of errors: semantic, syntax, and runtime error"
   ]
  },
  {
   "cell_type": "markdown",
   "metadata": {},
   "source": [
    "### Exercise 3\n",
    "\n",
    "Type `help()` to start the online help utility. Or you can type help('print') to get information about the print statement.  You should type `q` and then hit `enter` in the text box to exit the help utility. \n",
    "\n",
    "Note: this exercise is pretty simple (and there's not much to put in the box)!  We just want to make sure that you have tried out this super-handy feature of Python!"
   ]
  },
  {
   "cell_type": "code",
   "execution_count": null,
   "metadata": {
    "collapsed": false
   },
   "outputs": [],
   "source": [
    "help()"
   ]
  },
  {
   "cell_type": "markdown",
   "metadata": {},
   "source": [
    "### Exercise 4  \n",
    "\n",
    "Start the Python interpreter and use it as a calculator. Python’s syntax for math operations is almost the same as standard mathematical notation. For example, the symbols +, - and / denote addition, subtraction and division, as you would expect. The symbol for multiplication is *.\n",
    "\n",
    "If you run a 10 kilometer race in 43 minutes 30 seconds, what is your average time per mile? What is your average speed in miles per hour? (Hint: there are 1.61 kilometers in a mile). "
   ]
  },
  {
   "cell_type": "code",
   "execution_count": 1,
   "metadata": {
    "collapsed": false
   },
   "outputs": [
    {
     "name": "stdout",
     "output_type": "stream",
     "text": [
      "Average time per mile is 7.0035min\n",
      "Average speed in miles per hr is 8.56714499893 mph\n"
     ]
    }
   ],
   "source": [
    "print 'Average time per mile is ' + str(43.5/(10/1.61)) + 'min'\n",
    "print 'Average speed in miles per hr is ' + str((10/1.61)/43.5*60) + ' mph'"
   ]
  },
  {
   "cell_type": "markdown",
   "metadata": {},
   "source": [
    "## Chapter 2"
   ]
  },
  {
   "cell_type": "markdown",
   "metadata": {},
   "source": [
    "Note\n",
    "====\n",
    "\n",
    "- You can use type() command to find out the data type of a value:\n",
    "etc. type(3), type('hello'), type(random_variable)\n",
    "- It is a good idea to put comments to help people understand your code."
   ]
  },
  {
   "cell_type": "markdown",
   "metadata": {},
   "source": [
    "### Exercise 2  \n",
    "\n",
    "Assume that we execute the following assignment statements:\n",
    "\n",
    "width = 17\n",
    "height = 12.0\n",
    "delimiter = '.'\n",
    "\n",
    "For each of the following expressions, write the value of the expression and the type (of the value of the expression).\n",
    "\n",
    "1. `width/2`\n",
    "2. `width/2.0`\n",
    "3. `height/3`\n",
    "4. `1 + 2 * 5`\n",
    "5. `delimiter * 5`\n",
    "\n",
    "Please use the following markdown cell to provide your answer."
   ]
  },
  {
   "cell_type": "markdown",
   "metadata": {},
   "source": [
    "1. 8 (integer)\n",
    "2. 8.5 (float)\n",
    "3. 4.0 (float)\n",
    "4. 11 (integer)\n",
    "5. '.....' (string) "
   ]
  },
  {
   "cell_type": "markdown",
   "metadata": {},
   "source": [
    "### Exercise 3  \n",
    "\n",
    "Practice using the Python interpreter as a calculator.  For each of these provide Python code that computes each answer.\n",
    "\n",
    "    \n"
   ]
  },
  {
   "cell_type": "markdown",
   "metadata": {},
   "source": [
    "The volume of a sphere with radius r is 4/3 $\\pi r^3$. What is the volume of a sphere with radius 5? Hint: 392.7 is wrong!"
   ]
  },
  {
   "cell_type": "code",
   "execution_count": 8,
   "metadata": {
    "collapsed": false
   },
   "outputs": [
    {
     "name": "stdout",
     "output_type": "stream",
     "text": [
      "523.333333333\n"
     ]
    }
   ],
   "source": [
    "print (4.0/3)*(3.14)*(5**3)"
   ]
  },
  {
   "cell_type": "markdown",
   "metadata": {},
   "source": [
    "Suppose the cover price of a book is \\$24.95, but bookstores get a 40% discount. Shipping costs \\$3 for the first copy and 75 cents for each additional copy. What is the total wholesale cost for 60 copies?"
   ]
  },
  {
   "cell_type": "code",
   "execution_count": 1,
   "metadata": {
    "collapsed": false
   },
   "outputs": [
    {
     "name": "stdout",
     "output_type": "stream",
     "text": [
      "646.05\n"
     ]
    }
   ],
   "source": [
    "print ((60*24.95)*0.40) + 3 + (0.75*59)"
   ]
  },
  {
   "cell_type": "markdown",
   "metadata": {},
   "source": [
    "If I leave my house at 6:52 am and run 1 mile at an easy pace (8:15 per mile), then 3 miles at tempo (7:12 per mile) and 1 mile at easy pace again, what time do I get home for breakfast? "
   ]
  },
  {
   "cell_type": "code",
   "execution_count": 5,
   "metadata": {
    "collapsed": false
   },
   "outputs": [
    {
     "name": "stdout",
     "output_type": "stream",
     "text": [
      "37.5\n",
      "You get home at 7:29:30 AM\n"
     ]
    }
   ],
   "source": [
    "easy_pace = 8 + (15.0/60)\n",
    "tempo_pace = 3 * (7 + (12/60))\n",
    "elapsed_time = 2*easy_pace + tempo_pace\n",
    "print elapsed_time\n",
    "print \"You get home at 7:29:30 AM\""
   ]
  },
  {
   "cell_type": "markdown",
   "metadata": {},
   "source": [
    "## Chapter 3"
   ]
  },
  {
   "cell_type": "markdown",
   "metadata": {},
   "source": [
    "Note\n",
    "====\n",
    "\n",
    "- Python modules contain a number of useful functions\n",
    "- Ex. math.log10, math.sin, math.sqrt\n",
    "- Python styling convention: four-spaces indentation, single quote most of the time to write a string\n",
    "- The statements inside the function do not get executed until the function is called.\n",
    "- $__main__$ is a name for top-most frame. When you create a variable outside a function, the variable belongs to $__main__$\n",
    "- Two ways to import modules are 'import' or 'from something import something'"
   ]
  },
  {
   "cell_type": "markdown",
   "metadata": {},
   "source": [
    "### Exercise 3\n",
    "\n",
    "Python provides a built-in function called len that returns the length of a string, so the value of len('allen') is 5.\n",
    "Write a function named right_justify that takes a string named s as a parameter and prints the string with enough leading spaces so that the last letter of the string is in column 70 of the display.\n",
    "\n",
    "```\n",
    ">>> right_justify('allen')\n",
    "                                                                 allen```"
   ]
  },
  {
   "cell_type": "code",
   "execution_count": 9,
   "metadata": {
    "collapsed": false
   },
   "outputs": [
    {
     "name": "stdout",
     "output_type": "stream",
     "text": [
      "                                                                 hello\n"
     ]
    }
   ],
   "source": [
    "def right_justify(word):\n",
    "    return ' '*(70-len(word)) + word\n",
    "print right_justify('hello')"
   ]
  },
  {
   "cell_type": "markdown",
   "metadata": {},
   "source": [
    "### Exercise 5\n",
    "\n",
    "This exercise can be done using only the statements and other features we have learned so far.\n",
    "\n",
    "(a) Write a function that draws a grid like the following:\n",
    "```\n",
    "+ - - - - + - - - - +\n",
    "|         |         |\n",
    "|         |         |\n",
    "|         |         |\n",
    "|         |         |\n",
    "+ - - - - + - - - - +\n",
    "|         |         |\n",
    "|         |         |\n",
    "|         |         |\n",
    "|         |         |\n",
    "+ - - - - + - - - - +\n",
    "```\n",
    "**Hint:** to print more than one value on a line, you can print a comma-separated sequence:\n",
    "print '+', '-'\n",
    "If the sequence ends with a comma, Python leaves the line unfinished, so the value printed next appears on the same line.\n",
    "print '+', \n",
    "print '-'\n",
    "The output of these statements is '+ -'.\n",
    "A print statement all by itself ends the current line and goes to the next line."
   ]
  },
  {
   "cell_type": "code",
   "execution_count": 39,
   "metadata": {
    "collapsed": false
   },
   "outputs": [
    {
     "name": "stdout",
     "output_type": "stream",
     "text": [
      "+ - - - - + - - - - +\n",
      "|         |         |\n",
      "|         |         |\n",
      "|         |         |\n",
      "|         |         |\n",
      "+ - - - - + - - - - +\n",
      "|         |         |\n",
      "|         |         |\n",
      "|         |         |\n",
      "|         |         |\n",
      "+ - - - - + - - - - +\n"
     ]
    }
   ],
   "source": [
    "def print_plus():\n",
    "    print '+',\n",
    "def print_minus():\n",
    "    print '-',\n",
    "def print_pipe():\n",
    "    print '|',\n",
    "def print_space():\n",
    "    print ' ',\n",
    "    \n",
    "def print_horz():\n",
    "    print_plus()\n",
    "    print_minus()\n",
    "    print_minus()\n",
    "    print_minus()\n",
    "    print_minus()\n",
    "    print_plus()\n",
    "    print_minus()\n",
    "    print_minus()\n",
    "    print_minus()\n",
    "    print_minus()\n",
    "    print_plus()\n",
    "    print\n",
    "    \n",
    "def print_vert():\n",
    "    print_pipe()\n",
    "    print_space()\n",
    "    print_space()\n",
    "    print_space()\n",
    "    print_space()\n",
    "    print_pipe()\n",
    "    print_space()\n",
    "    print_space()\n",
    "    print_space()\n",
    "    print_space()\n",
    "    print_pipe()\n",
    "    print\n",
    "\n",
    "def print_rect():\n",
    "    print_horz()\n",
    "    print_vert()\n",
    "    print_vert()\n",
    "    print_vert()\n",
    "    print_vert()\n",
    "    print_horz()\n",
    "    print_vert()\n",
    "    print_vert()\n",
    "    print_vert()\n",
    "    print_vert()\n",
    "    print_horz()\n",
    "    \n",
    "print_rect()"
   ]
  },
  {
   "cell_type": "markdown",
   "metadata": {},
   "source": [
    "(b) Write a function that draws a similar grid with four rows and four columns."
   ]
  },
  {
   "cell_type": "code",
   "execution_count": 42,
   "metadata": {
    "collapsed": false
   },
   "outputs": [
    {
     "name": "stdout",
     "output_type": "stream",
     "text": [
      "+ - - +\n",
      "|     |\n",
      "|     |\n",
      "+ - - +\n"
     ]
    }
   ],
   "source": [
    "def print_plus():\n",
    "    print '+',\n",
    "def print_minus():\n",
    "    print '-',\n",
    "def print_pipe():\n",
    "    print '|',\n",
    "def print_space():\n",
    "    print ' ',\n",
    "    \n",
    "def print_horz():\n",
    "    print_plus()\n",
    "    print_minus()\n",
    "    print_minus()\n",
    "    print_plus()\n",
    "    print\n",
    "\n",
    "def print_vert():\n",
    "    print_pipe()\n",
    "    print_space()\n",
    "    print_space()\n",
    "    print_pipe()\n",
    "    print\n",
    "    \n",
    "def print_rect():\n",
    "    print_horz()\n",
    "    print_vert()\n",
    "    print_vert()\n",
    "    print_horz()\n",
    "    \n",
    "print_rect()"
   ]
  },
  {
   "cell_type": "markdown",
   "metadata": {},
   "source": [
    "## Chapter 5.1 - 5.7"
   ]
  },
  {
   "cell_type": "markdown",
   "metadata": {},
   "source": [
    "- 'pass' is a useful placeholder for if statement.\n",
    "- In general, it is a good idea to avoid nested conditionals because it is hard to read"
   ]
  },
  {
   "cell_type": "markdown",
   "metadata": {},
   "source": [
    "### Exercise 3  \n",
    "\n",
    "Fermat’s Last Theorem says that there are no positive integers a, b, and c such that $a^n + b^n = c^n$ for any values of n greater than 2.\n",
    "\n",
    "(a) Write a function named `check_fermat` that takes four parameters—a, b, c and n—and that checks to see if Fermat’s theorem holds. If n is greater than 2 and it turns out to be true that\n",
    "$a^n + b^n = c^n$ the program should print, \"Holy smokes, Fermat was wrong!\" Otherwise the program should print, \"No, that doesn’t work.\""
   ]
  },
  {
   "cell_type": "code",
   "execution_count": 43,
   "metadata": {
    "collapsed": true
   },
   "outputs": [],
   "source": [
    "def check_fermat(a,b,c,n):\n",
    "    if n>2 and a**n + b**n == c**n:\n",
    "        print 'Holy smokes, Fermat was wrong!'\n",
    "    else:\n",
    "        print \"No, that doesn't work\""
   ]
  },
  {
   "cell_type": "markdown",
   "metadata": {},
   "source": [
    "(b) Write a function that prompts the user to input values for a, b, c and n, converts them to integers, and uses check_fermat to check whether they violate Fermat’s theorem."
   ]
  },
  {
   "cell_type": "code",
   "execution_count": 48,
   "metadata": {
    "collapsed": false
   },
   "outputs": [
    {
     "name": "stdout",
     "output_type": "stream",
     "text": [
      "Type a\n",
      "1\n",
      "Type b\n",
      "2\n",
      "Type c\n",
      "3\n",
      "Type n\n",
      "4\n",
      "No, that doesn't work\n"
     ]
    }
   ],
   "source": [
    "def check_fermat(a,b,c,n):\n",
    "    if n>2 and a**n + b**n == c**n:\n",
    "        print 'Holy smokes, Fermat was wrong!'\n",
    "    else:\n",
    "        print \"No, that doesn't work\"\n",
    "def user_check_fermat():        \n",
    "    a = int(raw_input('Type a\\n'))\n",
    "    b = int(raw_input('Type b\\n'))\n",
    "    c = int(raw_input('Type c\\n'))\n",
    "    n = int(raw_input('Type n\\n'))\n",
    "    check_fermat(a,b,c,n)\n",
    "    \n",
    "user_check_fermat()"
   ]
  },
  {
   "cell_type": "markdown",
   "metadata": {},
   "source": [
    "### Exercise 4  \n",
    "\n",
    "If you are given three sticks, you may or may not be able to arrange them in a triangle. For example, if one of the sticks is 12 inches long and the other two are one inch long, it is clear that you will not be able to get the short sticks to meet in the middle. For any three lengths, there is a simple test to see if it is possible to form a triangle:\n",
    "> If any of the three lengths is greater than the sum of the other two, then you cannot form a triangle. Otherwise, you can. (If the sum of two lengths equals the third, they form what is called a “degenerate” triangle.)\n",
    "\n",
    "(a) Write a function named `is_triangle` that takes three integers as arguments, and that prints either \"Yes\" or \"No,\" depending on whether you can or cannot form a triangle from sticks with the given lengths."
   ]
  },
  {
   "cell_type": "code",
   "execution_count": 52,
   "metadata": {
    "collapsed": false
   },
   "outputs": [],
   "source": [
    "def is_triangle(a,b,c):\n",
    "    if (a > b+c):\n",
    "        print 'No'\n",
    "    elif (b > a+c):\n",
    "        print 'No'\n",
    "    elif (c > a+b):\n",
    "        print 'No'\n",
    "    else:\n",
    "        print 'Yes'"
   ]
  },
  {
   "cell_type": "markdown",
   "metadata": {},
   "source": [
    "(b) Write a function that prompts the user to input three stick lengths, converts them to integers, and uses is_triangle to check whether sticks with the given lengths can form a triangle."
   ]
  },
  {
   "cell_type": "code",
   "execution_count": 56,
   "metadata": {
    "collapsed": false
   },
   "outputs": [
    {
     "name": "stdout",
     "output_type": "stream",
     "text": [
      "Type a\n",
      "3\n",
      "Type b\n",
      "4\n",
      "Type c\n",
      "8\n",
      "No\n"
     ]
    }
   ],
   "source": [
    "def is_triangle(a,b,c):\n",
    "    if (a > b+c):\n",
    "        print 'No'\n",
    "    elif (b > a+c):\n",
    "        print 'No'\n",
    "    elif (c > a+b):\n",
    "        print 'No'\n",
    "    else:\n",
    "        print 'Yes'\n",
    "        \n",
    "def user_is_triangle():\n",
    "    a = int(raw_input(\"Type a\\n\"))\n",
    "    b = int(raw_input('Type b\\n'))\n",
    "    c = int(raw_input('Type c\\n'))\n",
    "    is_triangle(a,b,c)\n",
    "    \n",
    "user_is_triangle()"
   ]
  },
  {
   "cell_type": "markdown",
   "metadata": {},
   "source": [
    "## Notes for the Instructors\n",
    "\n",
    "Please use the space below to write comments to help us plan the next class session.  For instance, if you want to see us go over an example of a particular type of problem, you can indicate that here.\n",
    "\n",
    "Please remember that the best way to get quick feedback from the instructors as well as your peers, is to use Piazza.  However, consider using this channel if it doesn't make sense to post your note to Piazza."
   ]
  },
  {
   "cell_type": "markdown",
   "metadata": {},
   "source": []
  }
 ],
 "metadata": {
  "kernelspec": {
   "display_name": "Python 2",
   "language": "python",
   "name": "python2"
  },
  "language_info": {
   "codemirror_mode": {
    "name": "ipython",
    "version": 2
   },
   "file_extension": ".py",
   "mimetype": "text/x-python",
   "name": "python",
   "nbconvert_exporter": "python",
   "pygments_lexer": "ipython2",
   "version": "2.7.6"
  }
 },
 "nbformat": 4,
 "nbformat_minor": 0
}
